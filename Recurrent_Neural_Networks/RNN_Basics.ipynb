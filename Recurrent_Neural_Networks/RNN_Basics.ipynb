{
  "nbformat": 4,
  "nbformat_minor": 0,
  "metadata": {
    "colab": {
      "name": "RNN Basics.ipynb",
      "provenance": []
    },
    "kernelspec": {
      "name": "python3",
      "display_name": "Python 3"
    }
  },
  "cells": [
    {
      "cell_type": "code",
      "metadata": {
        "id": "XOGDkJjVM7hh",
        "colab_type": "code",
        "colab": {}
      },
      "source": [
        "import numpy as np\n",
        "import pandas as pd\n",
        "import matplotlib.pyplot as plt"
      ],
      "execution_count": 0,
      "outputs": []
    },
    {
      "cell_type": "code",
      "metadata": {
        "id": "DRosX4KuPwHk",
        "colab_type": "code",
        "outputId": "5fbdf216-b16d-45f7-9f06-b5844f79fa1e",
        "colab": {
          "base_uri": "https://localhost:8080/",
          "height": 134
        }
      },
      "source": [
        "data_train=pd.read_csv('/content/Google_Stock_Price_Train.csv')\n",
        "train_set=data_train.iloc[:, 1:2].values\n",
        "train_set"
      ],
      "execution_count": 0,
      "outputs": [
        {
          "output_type": "execute_result",
          "data": {
            "text/plain": [
              "array([[325.25],\n",
              "       [331.27],\n",
              "       [329.83],\n",
              "       ...,\n",
              "       [793.7 ],\n",
              "       [783.33],\n",
              "       [782.75]])"
            ]
          },
          "metadata": {
            "tags": []
          },
          "execution_count": 4
        }
      ]
    },
    {
      "cell_type": "markdown",
      "metadata": {
        "id": "Wuds1ubyZ1I6",
        "colab_type": "text"
      },
      "source": [
        "We use normalization in the case of RNN\n"
      ]
    },
    {
      "cell_type": "code",
      "metadata": {
        "id": "TsMbNSJVQiR2",
        "colab_type": "code",
        "outputId": "2a25b676-9e43-404c-bbe0-f5e8a3c8fa73",
        "colab": {
          "base_uri": "https://localhost:8080/",
          "height": 134
        }
      },
      "source": [
        " from sklearn.preprocessing import MinMaxScaler\n",
        " sc=MinMaxScaler(feature_range=(0,1))\n",
        " training_set=sc.fit_transform(train_set)\n",
        " training_set"
      ],
      "execution_count": 0,
      "outputs": [
        {
          "output_type": "execute_result",
          "data": {
            "text/plain": [
              "array([[0.08581368],\n",
              "       [0.09701243],\n",
              "       [0.09433366],\n",
              "       ...,\n",
              "       [0.95725128],\n",
              "       [0.93796041],\n",
              "       [0.93688146]])"
            ]
          },
          "metadata": {
            "tags": []
          },
          "execution_count": 5
        }
      ]
    },
    {
      "cell_type": "markdown",
      "metadata": {
        "id": "b4K_-z86Zw7I",
        "colab_type": "text"
      },
      "source": [
        "Create a special data strucure with 60 time steps to let the RNN know what to learn.\n",
        "Predict output from past 60 past financial trends."
      ]
    },
    {
      "cell_type": "code",
      "metadata": {
        "id": "anITECX_ZvjW",
        "colab_type": "code",
        "outputId": "d95f578a-0674-4655-e19d-370cdcede8e5",
        "colab": {
          "base_uri": "https://localhost:8080/",
          "height": 151
        }
      },
      "source": [
        "X_train=[]\n",
        "y_train=[]\n",
        "for i in range(120,1258):\n",
        "  X_train.append(training_set[i-60:i,0])\n",
        "  y_train.append(training_set[i,0])\n",
        "X_train,y_train=np.array(X_train),np.array(y_train)\n",
        "print(X_train)\n",
        "print(y_train)"
      ],
      "execution_count": 0,
      "outputs": [
        {
          "output_type": "stream",
          "text": [
            "[[0.08627874 0.08471612 0.07454052 ... 0.0180445  0.0180817  0.00710618]\n",
            " [0.08471612 0.07454052 0.07883771 ... 0.0180817  0.00710618 0.0064923 ]\n",
            " [0.07454052 0.07883771 0.07238262 ... 0.00710618 0.0064923  0.00225091]\n",
            " ...\n",
            " [0.92106928 0.92438053 0.93048218 ... 0.95475854 0.95204256 0.95163331]\n",
            " [0.92438053 0.93048218 0.9299055  ... 0.95204256 0.95163331 0.95725128]\n",
            " [0.93048218 0.9299055  0.93113327 ... 0.95163331 0.95725128 0.93796041]]\n",
            "[0.0064923  0.00225091 0.00682714 ... 0.95725128 0.93796041 0.93688146]\n"
          ],
          "name": "stdout"
        }
      ]
    },
    {
      "cell_type": "code",
      "metadata": {
        "id": "YdHSOnQKaxFQ",
        "colab_type": "code",
        "colab": {}
      },
      "source": [
        "X_train = np.reshape(X_train, (X_train.shape[0], X_train.shape[1], 1))"
      ],
      "execution_count": 0,
      "outputs": []
    },
    {
      "cell_type": "code",
      "metadata": {
        "id": "h00B1L7Zn9GW",
        "colab_type": "code",
        "outputId": "0b6be8bb-93b3-419e-be76-abb1571bd324",
        "colab": {
          "base_uri": "https://localhost:8080/",
          "height": 34
        }
      },
      "source": [
        "from keras.models import Sequential\n",
        "from keras.layers import Dense\n",
        "from keras.layers import LSTM\n",
        "from keras.layers import Dropout\n"
      ],
      "execution_count": 0,
      "outputs": [
        {
          "output_type": "stream",
          "text": [
            "Using TensorFlow backend.\n"
          ],
          "name": "stderr"
        }
      ]
    },
    {
      "cell_type": "code",
      "metadata": {
        "id": "oufkA9szn16d",
        "colab_type": "code",
        "outputId": "c1d82f84-c1fd-41bc-d5b2-eb55c00e6ffb",
        "colab": {
          "base_uri": "https://localhost:8080/",
          "height": 1000
        }
      },
      "source": [
        "regressor = Sequential()\n",
        "\n",
        "# Adding the first LSTM layer and some Dropout regularisation\n",
        "regressor.add(LSTM(units = 100, return_sequences = True, input_shape = (X_train.shape[1], 1)))\n",
        "regressor.add(Dropout(0.5))\n",
        "\n",
        "# Adding a second LSTM layer and some Dropout regularisation\n",
        "regressor.add(LSTM(units = 100, return_sequences = True))\n",
        "regressor.add(Dropout(0.3))\n",
        "\n",
        "# Adding a third LSTM layer and some Dropout regularisation\n",
        "regressor.add(LSTM(units = 100, return_sequences = True))\n",
        "regressor.add(Dropout(0.3))\n",
        "\n",
        "# Adding a fourth LSTM layer and some Dropout regularisation\n",
        "regressor.add(LSTM(units = 100))\n",
        "regressor.add(Dropout(0.3))\n",
        "\n",
        "# Adding the output layer\n",
        "regressor.add(Dense(units = 1))\n",
        "\n",
        "# Compiling the RNN\n",
        "regressor.compile(optimizer = 'adam', loss = 'mean_squared_error')\n",
        "\n",
        "# Fitting the RNN to the Training set\n",
        "regressor.fit(X_train, y_train, epochs = 150, batch_size = 32)\n"
      ],
      "execution_count": 0,
      "outputs": [
        {
          "output_type": "stream",
          "text": [
            "Epoch 1/150\n",
            "1138/1138 [==============================] - 11s 10ms/step - loss: 0.0315\n",
            "Epoch 2/150\n",
            "1138/1138 [==============================] - 9s 8ms/step - loss: 0.0068\n",
            "Epoch 3/150\n",
            "1138/1138 [==============================] - 9s 8ms/step - loss: 0.0065\n",
            "Epoch 4/150\n",
            "1138/1138 [==============================] - 9s 8ms/step - loss: 0.0051\n",
            "Epoch 5/150\n",
            "1138/1138 [==============================] - 9s 8ms/step - loss: 0.0050\n",
            "Epoch 6/150\n",
            "1138/1138 [==============================] - 9s 8ms/step - loss: 0.0045\n",
            "Epoch 7/150\n",
            "1138/1138 [==============================] - 9s 8ms/step - loss: 0.0049\n",
            "Epoch 8/150\n",
            "1138/1138 [==============================] - 9s 8ms/step - loss: 0.0049\n",
            "Epoch 9/150\n",
            "1138/1138 [==============================] - 9s 8ms/step - loss: 0.0040\n",
            "Epoch 10/150\n",
            "1138/1138 [==============================] - 9s 8ms/step - loss: 0.0042\n",
            "Epoch 11/150\n",
            "1138/1138 [==============================] - 9s 8ms/step - loss: 0.0041\n",
            "Epoch 12/150\n",
            "1138/1138 [==============================] - 9s 8ms/step - loss: 0.0043\n",
            "Epoch 13/150\n",
            "1138/1138 [==============================] - 9s 8ms/step - loss: 0.0037\n",
            "Epoch 14/150\n",
            "1138/1138 [==============================] - 9s 8ms/step - loss: 0.0042\n",
            "Epoch 15/150\n",
            "1138/1138 [==============================] - 9s 8ms/step - loss: 0.0038\n",
            "Epoch 16/150\n",
            "1138/1138 [==============================] - 9s 8ms/step - loss: 0.0037\n",
            "Epoch 17/150\n",
            "1138/1138 [==============================] - 9s 8ms/step - loss: 0.0034\n",
            "Epoch 18/150\n",
            "1138/1138 [==============================] - 9s 8ms/step - loss: 0.0038\n",
            "Epoch 19/150\n",
            "1138/1138 [==============================] - 9s 8ms/step - loss: 0.0038\n",
            "Epoch 20/150\n",
            "1138/1138 [==============================] - 9s 8ms/step - loss: 0.0033\n",
            "Epoch 21/150\n",
            "1138/1138 [==============================] - 9s 8ms/step - loss: 0.0033\n",
            "Epoch 22/150\n",
            "1138/1138 [==============================] - 9s 8ms/step - loss: 0.0043\n",
            "Epoch 23/150\n",
            "1138/1138 [==============================] - 9s 8ms/step - loss: 0.0031\n",
            "Epoch 24/150\n",
            "1138/1138 [==============================] - 9s 8ms/step - loss: 0.0030\n",
            "Epoch 25/150\n",
            "1138/1138 [==============================] - 9s 8ms/step - loss: 0.0030\n",
            "Epoch 26/150\n",
            "1138/1138 [==============================] - 9s 8ms/step - loss: 0.0031\n",
            "Epoch 27/150\n",
            "1138/1138 [==============================] - 9s 8ms/step - loss: 0.0032\n",
            "Epoch 28/150\n",
            "1138/1138 [==============================] - 9s 8ms/step - loss: 0.0032\n",
            "Epoch 29/150\n",
            "1138/1138 [==============================] - 9s 8ms/step - loss: 0.0027\n",
            "Epoch 30/150\n",
            "1138/1138 [==============================] - 9s 8ms/step - loss: 0.0029\n",
            "Epoch 31/150\n",
            "1138/1138 [==============================] - 9s 8ms/step - loss: 0.0027\n",
            "Epoch 32/150\n",
            "1138/1138 [==============================] - 9s 8ms/step - loss: 0.0029\n",
            "Epoch 33/150\n",
            "1138/1138 [==============================] - 9s 8ms/step - loss: 0.0031\n",
            "Epoch 34/150\n",
            "1138/1138 [==============================] - 9s 8ms/step - loss: 0.0027\n",
            "Epoch 35/150\n",
            "1138/1138 [==============================] - 9s 8ms/step - loss: 0.0027\n",
            "Epoch 36/150\n",
            "1138/1138 [==============================] - 9s 8ms/step - loss: 0.0027\n",
            "Epoch 37/150\n",
            "1138/1138 [==============================] - 9s 8ms/step - loss: 0.0024\n",
            "Epoch 38/150\n",
            "1138/1138 [==============================] - 9s 8ms/step - loss: 0.0025\n",
            "Epoch 39/150\n",
            "1138/1138 [==============================] - 9s 8ms/step - loss: 0.0028\n",
            "Epoch 40/150\n",
            "1138/1138 [==============================] - 9s 8ms/step - loss: 0.0025\n",
            "Epoch 41/150\n",
            "1138/1138 [==============================] - 9s 8ms/step - loss: 0.0032\n",
            "Epoch 42/150\n",
            "1138/1138 [==============================] - 9s 8ms/step - loss: 0.0026\n",
            "Epoch 43/150\n",
            "1138/1138 [==============================] - 9s 8ms/step - loss: 0.0029\n",
            "Epoch 44/150\n",
            "1138/1138 [==============================] - 9s 8ms/step - loss: 0.0031\n",
            "Epoch 45/150\n",
            "1138/1138 [==============================] - 9s 8ms/step - loss: 0.0028\n",
            "Epoch 46/150\n",
            "1138/1138 [==============================] - 9s 8ms/step - loss: 0.0021\n",
            "Epoch 47/150\n",
            "1138/1138 [==============================] - 9s 8ms/step - loss: 0.0023\n",
            "Epoch 48/150\n",
            "1138/1138 [==============================] - 9s 8ms/step - loss: 0.0023\n",
            "Epoch 49/150\n",
            "1138/1138 [==============================] - 9s 8ms/step - loss: 0.0023\n",
            "Epoch 50/150\n",
            "1138/1138 [==============================] - 9s 8ms/step - loss: 0.0023\n",
            "Epoch 51/150\n",
            "1138/1138 [==============================] - 9s 8ms/step - loss: 0.0025\n",
            "Epoch 52/150\n",
            "1138/1138 [==============================] - 9s 8ms/step - loss: 0.0024\n",
            "Epoch 53/150\n",
            "1138/1138 [==============================] - 9s 8ms/step - loss: 0.0025\n",
            "Epoch 54/150\n",
            "1138/1138 [==============================] - 9s 8ms/step - loss: 0.0021\n",
            "Epoch 55/150\n",
            "1138/1138 [==============================] - 9s 8ms/step - loss: 0.0021\n",
            "Epoch 56/150\n",
            "1138/1138 [==============================] - 9s 8ms/step - loss: 0.0024\n",
            "Epoch 57/150\n",
            "1138/1138 [==============================] - 9s 8ms/step - loss: 0.0022\n",
            "Epoch 58/150\n",
            "1138/1138 [==============================] - 9s 8ms/step - loss: 0.0021\n",
            "Epoch 59/150\n",
            "1138/1138 [==============================] - 9s 8ms/step - loss: 0.0021\n",
            "Epoch 60/150\n",
            "1138/1138 [==============================] - 9s 8ms/step - loss: 0.0019\n",
            "Epoch 61/150\n",
            "1138/1138 [==============================] - 9s 8ms/step - loss: 0.0020\n",
            "Epoch 62/150\n",
            "1138/1138 [==============================] - 9s 8ms/step - loss: 0.0019\n",
            "Epoch 63/150\n",
            "1138/1138 [==============================] - 9s 8ms/step - loss: 0.0020\n",
            "Epoch 64/150\n",
            "1138/1138 [==============================] - 9s 8ms/step - loss: 0.0021\n",
            "Epoch 65/150\n",
            "1138/1138 [==============================] - 9s 8ms/step - loss: 0.0020\n",
            "Epoch 66/150\n",
            "1138/1138 [==============================] - 9s 8ms/step - loss: 0.0024\n",
            "Epoch 67/150\n",
            "1138/1138 [==============================] - 9s 8ms/step - loss: 0.0020\n",
            "Epoch 68/150\n",
            "1138/1138 [==============================] - 9s 8ms/step - loss: 0.0018\n",
            "Epoch 69/150\n",
            "1138/1138 [==============================] - 9s 8ms/step - loss: 0.0022\n",
            "Epoch 70/150\n",
            "1138/1138 [==============================] - 9s 8ms/step - loss: 0.0021\n",
            "Epoch 71/150\n",
            "1138/1138 [==============================] - 9s 8ms/step - loss: 0.0023\n",
            "Epoch 72/150\n",
            "1138/1138 [==============================] - 9s 8ms/step - loss: 0.0018\n",
            "Epoch 73/150\n",
            "1138/1138 [==============================] - 9s 8ms/step - loss: 0.0019\n",
            "Epoch 74/150\n",
            "1138/1138 [==============================] - 9s 8ms/step - loss: 0.0020\n",
            "Epoch 75/150\n",
            "1138/1138 [==============================] - 9s 8ms/step - loss: 0.0019\n",
            "Epoch 76/150\n",
            "1138/1138 [==============================] - 9s 8ms/step - loss: 0.0018\n",
            "Epoch 77/150\n",
            "1138/1138 [==============================] - 9s 8ms/step - loss: 0.0017\n",
            "Epoch 78/150\n",
            "1138/1138 [==============================] - 9s 8ms/step - loss: 0.0017\n",
            "Epoch 79/150\n",
            "1138/1138 [==============================] - 9s 8ms/step - loss: 0.0018\n",
            "Epoch 80/150\n",
            "1138/1138 [==============================] - 9s 8ms/step - loss: 0.0019\n",
            "Epoch 81/150\n",
            "1138/1138 [==============================] - 9s 8ms/step - loss: 0.0019\n",
            "Epoch 82/150\n",
            "1138/1138 [==============================] - 9s 8ms/step - loss: 0.0016\n",
            "Epoch 83/150\n",
            "1138/1138 [==============================] - 9s 8ms/step - loss: 0.0018\n",
            "Epoch 84/150\n",
            "1138/1138 [==============================] - 9s 8ms/step - loss: 0.0016\n",
            "Epoch 85/150\n",
            "1138/1138 [==============================] - 9s 8ms/step - loss: 0.0017\n",
            "Epoch 86/150\n",
            "1138/1138 [==============================] - 9s 8ms/step - loss: 0.0017\n",
            "Epoch 87/150\n",
            "1138/1138 [==============================] - 9s 8ms/step - loss: 0.0017\n",
            "Epoch 88/150\n",
            "1138/1138 [==============================] - 9s 8ms/step - loss: 0.0016\n",
            "Epoch 89/150\n",
            "1138/1138 [==============================] - 9s 8ms/step - loss: 0.0015\n",
            "Epoch 90/150\n",
            "1138/1138 [==============================] - 9s 8ms/step - loss: 0.0016\n",
            "Epoch 91/150\n",
            "1138/1138 [==============================] - 9s 8ms/step - loss: 0.0016\n",
            "Epoch 92/150\n",
            "1138/1138 [==============================] - 9s 8ms/step - loss: 0.0017\n",
            "Epoch 93/150\n",
            "1138/1138 [==============================] - 9s 8ms/step - loss: 0.0017\n",
            "Epoch 94/150\n",
            "1138/1138 [==============================] - 9s 8ms/step - loss: 0.0019\n",
            "Epoch 95/150\n",
            "1138/1138 [==============================] - 9s 8ms/step - loss: 0.0016\n",
            "Epoch 96/150\n",
            "1138/1138 [==============================] - 9s 8ms/step - loss: 0.0015\n",
            "Epoch 97/150\n",
            "1138/1138 [==============================] - 9s 8ms/step - loss: 0.0017\n",
            "Epoch 98/150\n",
            "1138/1138 [==============================] - 9s 8ms/step - loss: 0.0015\n",
            "Epoch 99/150\n",
            "1138/1138 [==============================] - 9s 8ms/step - loss: 0.0017\n",
            "Epoch 100/150\n",
            "1138/1138 [==============================] - 9s 8ms/step - loss: 0.0016\n",
            "Epoch 101/150\n",
            "1138/1138 [==============================] - 9s 8ms/step - loss: 0.0014\n",
            "Epoch 102/150\n",
            "1138/1138 [==============================] - 9s 8ms/step - loss: 0.0017\n",
            "Epoch 103/150\n",
            "1138/1138 [==============================] - 9s 8ms/step - loss: 0.0014\n",
            "Epoch 104/150\n",
            "1138/1138 [==============================] - 9s 8ms/step - loss: 0.0015\n",
            "Epoch 105/150\n",
            "1138/1138 [==============================] - 9s 8ms/step - loss: 0.0016\n",
            "Epoch 106/150\n",
            "1138/1138 [==============================] - 9s 8ms/step - loss: 0.0017\n",
            "Epoch 107/150\n",
            "1138/1138 [==============================] - 9s 8ms/step - loss: 0.0016\n",
            "Epoch 108/150\n",
            "1138/1138 [==============================] - 9s 8ms/step - loss: 0.0015\n",
            "Epoch 109/150\n",
            "1138/1138 [==============================] - 9s 8ms/step - loss: 0.0015\n",
            "Epoch 110/150\n",
            "1138/1138 [==============================] - 9s 8ms/step - loss: 0.0016\n",
            "Epoch 111/150\n",
            "1138/1138 [==============================] - 9s 8ms/step - loss: 0.0016\n",
            "Epoch 112/150\n",
            "1138/1138 [==============================] - 9s 8ms/step - loss: 0.0013\n",
            "Epoch 113/150\n",
            "1138/1138 [==============================] - 9s 8ms/step - loss: 0.0014\n",
            "Epoch 114/150\n",
            "1138/1138 [==============================] - 9s 8ms/step - loss: 0.0015\n",
            "Epoch 115/150\n",
            "1138/1138 [==============================] - 9s 8ms/step - loss: 0.0014\n",
            "Epoch 116/150\n",
            "1138/1138 [==============================] - 9s 8ms/step - loss: 0.0013\n",
            "Epoch 117/150\n",
            "1138/1138 [==============================] - 9s 8ms/step - loss: 0.0013\n",
            "Epoch 118/150\n",
            "1138/1138 [==============================] - 9s 8ms/step - loss: 0.0016\n",
            "Epoch 119/150\n",
            "1138/1138 [==============================] - 9s 8ms/step - loss: 0.0014\n",
            "Epoch 120/150\n",
            "1138/1138 [==============================] - 9s 8ms/step - loss: 0.0013\n",
            "Epoch 121/150\n",
            "1138/1138 [==============================] - 9s 8ms/step - loss: 0.0015\n",
            "Epoch 122/150\n",
            "1138/1138 [==============================] - 9s 8ms/step - loss: 0.0015\n",
            "Epoch 123/150\n",
            "1138/1138 [==============================] - 9s 8ms/step - loss: 0.0014\n",
            "Epoch 124/150\n",
            "1138/1138 [==============================] - 9s 8ms/step - loss: 0.0015\n",
            "Epoch 125/150\n",
            "1138/1138 [==============================] - 9s 8ms/step - loss: 0.0014\n",
            "Epoch 126/150\n",
            "1138/1138 [==============================] - 9s 8ms/step - loss: 0.0012\n",
            "Epoch 127/150\n",
            "1138/1138 [==============================] - 9s 8ms/step - loss: 0.0012\n",
            "Epoch 128/150\n",
            "1138/1138 [==============================] - 9s 8ms/step - loss: 0.0014\n",
            "Epoch 129/150\n",
            "1138/1138 [==============================] - 9s 8ms/step - loss: 0.0013\n",
            "Epoch 130/150\n",
            "1138/1138 [==============================] - 9s 8ms/step - loss: 0.0014\n",
            "Epoch 131/150\n",
            "1138/1138 [==============================] - 9s 8ms/step - loss: 0.0012\n",
            "Epoch 132/150\n",
            "1138/1138 [==============================] - 9s 8ms/step - loss: 0.0014\n",
            "Epoch 133/150\n",
            "1138/1138 [==============================] - 9s 8ms/step - loss: 0.0013\n",
            "Epoch 134/150\n",
            "1138/1138 [==============================] - 9s 8ms/step - loss: 0.0012\n",
            "Epoch 135/150\n",
            "1138/1138 [==============================] - 9s 8ms/step - loss: 0.0013\n",
            "Epoch 136/150\n",
            "1138/1138 [==============================] - 9s 8ms/step - loss: 0.0013\n",
            "Epoch 137/150\n",
            "1138/1138 [==============================] - 9s 8ms/step - loss: 0.0012\n",
            "Epoch 138/150\n",
            "1138/1138 [==============================] - 9s 8ms/step - loss: 0.0013\n",
            "Epoch 139/150\n",
            "1138/1138 [==============================] - 9s 8ms/step - loss: 0.0013\n",
            "Epoch 140/150\n",
            "1138/1138 [==============================] - 9s 8ms/step - loss: 0.0013\n",
            "Epoch 141/150\n",
            "1138/1138 [==============================] - 9s 8ms/step - loss: 0.0013\n",
            "Epoch 142/150\n",
            "1138/1138 [==============================] - 9s 8ms/step - loss: 0.0012\n",
            "Epoch 143/150\n",
            "1138/1138 [==============================] - 9s 8ms/step - loss: 0.0013\n",
            "Epoch 144/150\n",
            "1138/1138 [==============================] - 9s 8ms/step - loss: 0.0012\n",
            "Epoch 145/150\n",
            "1138/1138 [==============================] - 9s 8ms/step - loss: 0.0013\n",
            "Epoch 146/150\n",
            "1138/1138 [==============================] - 9s 8ms/step - loss: 0.0014\n",
            "Epoch 147/150\n",
            "1138/1138 [==============================] - 9s 8ms/step - loss: 0.0014\n",
            "Epoch 148/150\n",
            "1138/1138 [==============================] - 9s 8ms/step - loss: 0.0014\n",
            "Epoch 149/150\n",
            "1138/1138 [==============================] - 9s 8ms/step - loss: 0.0012\n",
            "Epoch 150/150\n",
            "1138/1138 [==============================] - 9s 8ms/step - loss: 0.0014\n"
          ],
          "name": "stdout"
        },
        {
          "output_type": "execute_result",
          "data": {
            "text/plain": [
              "<keras.callbacks.callbacks.History at 0x7fecfdbe5358>"
            ]
          },
          "metadata": {
            "tags": []
          },
          "execution_count": 9
        }
      ]
    },
    {
      "cell_type": "code",
      "metadata": {
        "id": "4twqNzGZoDz5",
        "colab_type": "code",
        "colab": {}
      },
      "source": [
        "data_test = pd.read_csv('Google_Stock_Price_Test.csv')\n",
        "real_stock_price = data_test.iloc[:, 1:2].values"
      ],
      "execution_count": 0,
      "outputs": []
    },
    {
      "cell_type": "code",
      "metadata": {
        "id": "Fqpg7yWDoQG1",
        "colab_type": "code",
        "colab": {}
      },
      "source": [
        "# Getting the predicted stock price of 2017\n",
        "dataset_total = pd.concat((data_train['Open'], data_test['Open']), axis = 0)\n",
        "inputs = dataset_total[len(dataset_total) - len(data_test) - 60:].values\n",
        "inputs = inputs.reshape(-1,1)\n",
        "inputs = sc.transform(inputs)\n",
        "X_test = []\n",
        "for i in range(60, 80):\n",
        "    X_test.append(inputs[i-60:i, 0])\n",
        "X_test = np.array(X_test)\n",
        "X_test = np.reshape(X_test, (X_test.shape[0], X_test.shape[1], 1))\n",
        "predicted_stock_price = regressor.predict(X_test)\n",
        "predicted_stock_price = sc.inverse_transform(predicted_stock_price)"
      ],
      "execution_count": 0,
      "outputs": []
    },
    {
      "cell_type": "code",
      "metadata": {
        "id": "VfUVGYn5oQDV",
        "colab_type": "code",
        "outputId": "009760d8-b7da-4881-99ba-a6e10f36af3e",
        "colab": {
          "base_uri": "https://localhost:8080/",
          "height": 295
        }
      },
      "source": [
        "# Visualising the results\n",
        "plt.plot(real_stock_price, color = 'red', label = 'Real Google Stock Price')\n",
        "plt.plot(predicted_stock_price, color = 'blue', label = 'Predicted Google Stock Price')\n",
        "plt.title('Google Stock Price Prediction')\n",
        "plt.xlabel('Time')\n",
        "plt.ylabel('Google Stock Price')\n",
        "plt.legend()\n",
        "plt.show()\n"
      ],
      "execution_count": 0,
      "outputs": [
        {
          "output_type": "display_data",
          "data": {
            "image/png": "[encoded data removed]",
            "text/plain": [
              "<Figure size 432x288 with 1 Axes>"
            ]
          },
          "metadata": {
            "tags": [],
            "needs_background": "light"
          }
        }
      ]
    },
    {
      "cell_type": "code",
      "metadata": {
        "id": "Hq6ezzzkoP59",
        "colab_type": "code",
        "colab": {}
      },
      "source": [
        ""
      ],
      "execution_count": 0,
      "outputs": []
    }
  ]
}